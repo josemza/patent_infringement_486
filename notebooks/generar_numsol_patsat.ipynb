{
 "cells": [
  {
   "cell_type": "markdown",
   "id": "dd60ddf0",
   "metadata": {},
   "source": [
    "# Notebook #1\n",
    "----\n",
    "Este notebook tiene por objetivo generar la lista de números de solicitudes de acuerdo al formato de número de solicitudes proporcionadas por la EPO a través de Patstat."
   ]
  },
  {
   "cell_type": "markdown",
   "id": "d62b0ed1",
   "metadata": {},
   "source": [
    "- **Formato de número de solicitud:** \"YYYY000123\"\n",
    "    - **YYYY:** año de solicitud\n",
    "    - **000123:** número de seis dígitos"
   ]
  },
  {
   "cell_type": "markdown",
   "id": "f16b0b09",
   "metadata": {},
   "source": [
    "## 1. Leer"
   ]
  },
  {
   "cell_type": "markdown",
   "id": "0eb7f7c8",
   "metadata": {},
   "source": [
    "Lectura del csv generado a partir del *web scraping* realizado a la página de resoluciones del Indecopi."
   ]
  },
  {
   "cell_type": "code",
   "execution_count": 2,
   "id": "bf17e67c",
   "metadata": {},
   "outputs": [
    {
     "data": {
      "text/html": [
       "<div>\n",
       "<style scoped>\n",
       "    .dataframe tbody tr th:only-of-type {\n",
       "        vertical-align: middle;\n",
       "    }\n",
       "\n",
       "    .dataframe tbody tr th {\n",
       "        vertical-align: top;\n",
       "    }\n",
       "\n",
       "    .dataframe thead th {\n",
       "        text-align: right;\n",
       "    }\n",
       "</style>\n",
       "<table border=\"1\" class=\"dataframe\">\n",
       "  <thead>\n",
       "    <tr style=\"text-align: right;\">\n",
       "      <th></th>\n",
       "      <th>expediente</th>\n",
       "      <th>fecha</th>\n",
       "      <th>solicitud</th>\n",
       "      <th>solicitante</th>\n",
       "      <th>sumilla</th>\n",
       "      <th>nombre_pdf</th>\n",
       "    </tr>\n",
       "  </thead>\n",
       "  <tbody>\n",
       "    <tr>\n",
       "      <th>0</th>\n",
       "      <td>3-2009/DIN</td>\n",
       "      <td>2009-01-09</td>\n",
       "      <td>1307-2005/OIN</td>\n",
       "      <td>PFIZER INC</td>\n",
       "      <td>/PATENTE DE INVENCION: DENEGADA ¿ METODOS TERA...</td>\n",
       "      <td>3-2009_DIN.pdf</td>\n",
       "    </tr>\n",
       "    <tr>\n",
       "      <th>1</th>\n",
       "      <td>4-2016/DIN</td>\n",
       "      <td>2016-01-12</td>\n",
       "      <td>002114-2011/DIN</td>\n",
       "      <td>PFIZER INC. - RINAT NEUROSCIENCE CORPORATION</td>\n",
       "      <td>Patente de invención: Denegada – Claridad de l...</td>\n",
       "      <td>4-2016_DIN.pdf</td>\n",
       "    </tr>\n",
       "    <tr>\n",
       "      <th>2</th>\n",
       "      <td>4-2013/DIN</td>\n",
       "      <td>2013-01-11</td>\n",
       "      <td>697-2008/OIN</td>\n",
       "      <td>ASTRAZENECA AB</td>\n",
       "      <td>/PATENTE DE INVENCION: DENEGADA ¿ CLARIDAD Y S...</td>\n",
       "      <td>4-2013_DIN.pdf</td>\n",
       "    </tr>\n",
       "    <tr>\n",
       "      <th>3</th>\n",
       "      <td>4-2011/CIN</td>\n",
       "      <td>2011-01-11</td>\n",
       "      <td>137-2007/OIN</td>\n",
       "      <td>SCHERING CORPORATION - FARMINDUSTRIA S.A.</td>\n",
       "      <td>/SOLICITUD DENEGADA.- FALTA DE CLARIDAD. APLIC...</td>\n",
       "      <td>4-2011_CIN.pdf</td>\n",
       "    </tr>\n",
       "    <tr>\n",
       "      <th>4</th>\n",
       "      <td>5-2011/DIN</td>\n",
       "      <td>2011-01-11</td>\n",
       "      <td>198-2007/OIN</td>\n",
       "      <td>NOVARTIS AG</td>\n",
       "      <td>/PATENTE DE INVENCION: DENEGADA ¿ CLARIDAD Y S...</td>\n",
       "      <td>5-2011_DIN.pdf</td>\n",
       "    </tr>\n",
       "  </tbody>\n",
       "</table>\n",
       "</div>"
      ],
      "text/plain": [
       "   expediente       fecha        solicitud  \\\n",
       "0  3-2009/DIN  2009-01-09    1307-2005/OIN   \n",
       "1  4-2016/DIN  2016-01-12  002114-2011/DIN   \n",
       "2  4-2013/DIN  2013-01-11     697-2008/OIN   \n",
       "3  4-2011/CIN  2011-01-11     137-2007/OIN   \n",
       "4  5-2011/DIN  2011-01-11     198-2007/OIN   \n",
       "\n",
       "                                    solicitante  \\\n",
       "0                                    PFIZER INC   \n",
       "1  PFIZER INC. - RINAT NEUROSCIENCE CORPORATION   \n",
       "2                                ASTRAZENECA AB   \n",
       "3     SCHERING CORPORATION - FARMINDUSTRIA S.A.   \n",
       "4                                   NOVARTIS AG   \n",
       "\n",
       "                                             sumilla      nombre_pdf  \n",
       "0  /PATENTE DE INVENCION: DENEGADA ¿ METODOS TERA...  3-2009_DIN.pdf  \n",
       "1  Patente de invención: Denegada – Claridad de l...  4-2016_DIN.pdf  \n",
       "2  /PATENTE DE INVENCION: DENEGADA ¿ CLARIDAD Y S...  4-2013_DIN.pdf  \n",
       "3  /SOLICITUD DENEGADA.- FALTA DE CLARIDAD. APLIC...  4-2011_CIN.pdf  \n",
       "4  /PATENTE DE INVENCION: DENEGADA ¿ CLARIDAD Y S...  5-2011_DIN.pdf  "
      ]
     },
     "execution_count": 2,
     "metadata": {},
     "output_type": "execute_result"
    }
   ],
   "source": [
    "import pandas as pd\n",
    "\n",
    "df = pd.read_csv('resoluciones_indecopi.csv')\n",
    "df.head()"
   ]
  },
  {
   "cell_type": "markdown",
   "id": "ecc59956",
   "metadata": {},
   "source": [
    "Función para aplicar formato al número de la solicitud"
   ]
  },
  {
   "cell_type": "code",
   "execution_count": 3,
   "id": "8fc5dbcf",
   "metadata": {},
   "outputs": [],
   "source": [
    "def application_format(application_number: str):\n",
    "    guion = application_number.find('-')\n",
    "    slash = application_number.find('/')\n",
    "    number = application_number[:guion]\n",
    "    anio = application_number[guion + 1:slash]\n",
    "    number_zeros = \"0\"*(6-len(number)) + number\n",
    "    return f'{anio}{number_zeros}'"
   ]
  },
  {
   "cell_type": "markdown",
   "id": "6418ef14",
   "metadata": {},
   "source": [
    "Almacernar el número de solicitud con formato aplicado en una nueva columna 'solicitud_formateado'"
   ]
  },
  {
   "cell_type": "code",
   "execution_count": 4,
   "id": "10f18445",
   "metadata": {},
   "outputs": [
    {
     "data": {
      "text/html": [
       "<div>\n",
       "<style scoped>\n",
       "    .dataframe tbody tr th:only-of-type {\n",
       "        vertical-align: middle;\n",
       "    }\n",
       "\n",
       "    .dataframe tbody tr th {\n",
       "        vertical-align: top;\n",
       "    }\n",
       "\n",
       "    .dataframe thead th {\n",
       "        text-align: right;\n",
       "    }\n",
       "</style>\n",
       "<table border=\"1\" class=\"dataframe\">\n",
       "  <thead>\n",
       "    <tr style=\"text-align: right;\">\n",
       "      <th></th>\n",
       "      <th>expediente</th>\n",
       "      <th>fecha</th>\n",
       "      <th>solicitud</th>\n",
       "      <th>solicitante</th>\n",
       "      <th>sumilla</th>\n",
       "      <th>nombre_pdf</th>\n",
       "      <th>solicitud_formateado</th>\n",
       "    </tr>\n",
       "  </thead>\n",
       "  <tbody>\n",
       "    <tr>\n",
       "      <th>0</th>\n",
       "      <td>3-2009/DIN</td>\n",
       "      <td>2009-01-09</td>\n",
       "      <td>1307-2005/OIN</td>\n",
       "      <td>PFIZER INC</td>\n",
       "      <td>/PATENTE DE INVENCION: DENEGADA ¿ METODOS TERA...</td>\n",
       "      <td>3-2009_DIN.pdf</td>\n",
       "      <td>2005001307</td>\n",
       "    </tr>\n",
       "    <tr>\n",
       "      <th>1</th>\n",
       "      <td>4-2016/DIN</td>\n",
       "      <td>2016-01-12</td>\n",
       "      <td>002114-2011/DIN</td>\n",
       "      <td>PFIZER INC. - RINAT NEUROSCIENCE CORPORATION</td>\n",
       "      <td>Patente de invención: Denegada – Claridad de l...</td>\n",
       "      <td>4-2016_DIN.pdf</td>\n",
       "      <td>2011002114</td>\n",
       "    </tr>\n",
       "    <tr>\n",
       "      <th>2</th>\n",
       "      <td>4-2013/DIN</td>\n",
       "      <td>2013-01-11</td>\n",
       "      <td>697-2008/OIN</td>\n",
       "      <td>ASTRAZENECA AB</td>\n",
       "      <td>/PATENTE DE INVENCION: DENEGADA ¿ CLARIDAD Y S...</td>\n",
       "      <td>4-2013_DIN.pdf</td>\n",
       "      <td>2008000697</td>\n",
       "    </tr>\n",
       "    <tr>\n",
       "      <th>3</th>\n",
       "      <td>4-2011/CIN</td>\n",
       "      <td>2011-01-11</td>\n",
       "      <td>137-2007/OIN</td>\n",
       "      <td>SCHERING CORPORATION - FARMINDUSTRIA S.A.</td>\n",
       "      <td>/SOLICITUD DENEGADA.- FALTA DE CLARIDAD. APLIC...</td>\n",
       "      <td>4-2011_CIN.pdf</td>\n",
       "      <td>2007000137</td>\n",
       "    </tr>\n",
       "    <tr>\n",
       "      <th>4</th>\n",
       "      <td>5-2011/DIN</td>\n",
       "      <td>2011-01-11</td>\n",
       "      <td>198-2007/OIN</td>\n",
       "      <td>NOVARTIS AG</td>\n",
       "      <td>/PATENTE DE INVENCION: DENEGADA ¿ CLARIDAD Y S...</td>\n",
       "      <td>5-2011_DIN.pdf</td>\n",
       "      <td>2007000198</td>\n",
       "    </tr>\n",
       "  </tbody>\n",
       "</table>\n",
       "</div>"
      ],
      "text/plain": [
       "   expediente       fecha        solicitud  \\\n",
       "0  3-2009/DIN  2009-01-09    1307-2005/OIN   \n",
       "1  4-2016/DIN  2016-01-12  002114-2011/DIN   \n",
       "2  4-2013/DIN  2013-01-11     697-2008/OIN   \n",
       "3  4-2011/CIN  2011-01-11     137-2007/OIN   \n",
       "4  5-2011/DIN  2011-01-11     198-2007/OIN   \n",
       "\n",
       "                                    solicitante  \\\n",
       "0                                    PFIZER INC   \n",
       "1  PFIZER INC. - RINAT NEUROSCIENCE CORPORATION   \n",
       "2                                ASTRAZENECA AB   \n",
       "3     SCHERING CORPORATION - FARMINDUSTRIA S.A.   \n",
       "4                                   NOVARTIS AG   \n",
       "\n",
       "                                             sumilla      nombre_pdf  \\\n",
       "0  /PATENTE DE INVENCION: DENEGADA ¿ METODOS TERA...  3-2009_DIN.pdf   \n",
       "1  Patente de invención: Denegada – Claridad de l...  4-2016_DIN.pdf   \n",
       "2  /PATENTE DE INVENCION: DENEGADA ¿ CLARIDAD Y S...  4-2013_DIN.pdf   \n",
       "3  /SOLICITUD DENEGADA.- FALTA DE CLARIDAD. APLIC...  4-2011_CIN.pdf   \n",
       "4  /PATENTE DE INVENCION: DENEGADA ¿ CLARIDAD Y S...  5-2011_DIN.pdf   \n",
       "\n",
       "  solicitud_formateado  \n",
       "0           2005001307  \n",
       "1           2011002114  \n",
       "2           2008000697  \n",
       "3           2007000137  \n",
       "4           2007000198  "
      ]
     },
     "execution_count": 4,
     "metadata": {},
     "output_type": "execute_result"
    }
   ],
   "source": [
    "df['solicitud_formateado'] = df['solicitud'].apply(lambda x: application_format(x))\n",
    "df.head()"
   ]
  },
  {
   "cell_type": "markdown",
   "id": "9fc94ea4",
   "metadata": {},
   "source": [
    "Convertir la nueva columna en una lista"
   ]
  },
  {
   "cell_type": "code",
   "execution_count": 7,
   "id": "0290cb46",
   "metadata": {},
   "outputs": [],
   "source": [
    "lista_docs = df['solicitud_formateado'].to_list()"
   ]
  },
  {
   "cell_type": "markdown",
   "id": "83439cbb",
   "metadata": {},
   "source": [
    "Escribir la lista en un archivo txt"
   ]
  },
  {
   "cell_type": "code",
   "execution_count": 8,
   "id": "378bbfd7",
   "metadata": {},
   "outputs": [],
   "source": [
    "with open(\"patentes_buscar.txt\", \"w\", encoding='utf-8') as f:\n",
    "    for doc in lista_docs:\n",
    "        f.write(f\"'{doc}',\")"
   ]
  }
 ],
 "metadata": {
  "kernelspec": {
   "display_name": "patentes",
   "language": "python",
   "name": "python3"
  },
  "language_info": {
   "codemirror_mode": {
    "name": "ipython",
    "version": 3
   },
   "file_extension": ".py",
   "mimetype": "text/x-python",
   "name": "python",
   "nbconvert_exporter": "python",
   "pygments_lexer": "ipython3",
   "version": "3.9.5"
  }
 },
 "nbformat": 4,
 "nbformat_minor": 5
}
